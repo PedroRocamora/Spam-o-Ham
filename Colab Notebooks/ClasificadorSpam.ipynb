{
  "cells": [
    {
      "cell_type": "markdown",
      "source": [
        "Subimos los 3 archivos:\n",
        "\n",
        "- enron1spam_ham_pedro.csv\n",
        "- gitHub_spam_pedro.csv\n",
        "- spambase_pedro.csv"
      ],
      "metadata": {
        "id": "elK8STo9FYhH"
      }
    },
    {
      "cell_type": "code",
      "execution_count": null,
      "metadata": {
        "colab": {
          "base_uri": "https://localhost:8080/",
          "height": 142
        },
        "id": "KDCKJkCdh2E1",
        "outputId": "dcc341e2-3948-4a1e-86a5-f1d02c310b6a"
      },
      "outputs": [
        {
          "output_type": "display_data",
          "data": {
            "text/plain": [
              "<IPython.core.display.HTML object>"
            ],
            "text/html": [
              "\n",
              "     <input type=\"file\" id=\"files-b2b9bcf3-daf9-41ea-a6eb-9124542e15ed\" name=\"files[]\" multiple disabled\n",
              "        style=\"border:none\" />\n",
              "     <output id=\"result-b2b9bcf3-daf9-41ea-a6eb-9124542e15ed\">\n",
              "      Upload widget is only available when the cell has been executed in the\n",
              "      current browser session. Please rerun this cell to enable.\n",
              "      </output>\n",
              "      <script>// Copyright 2017 Google LLC\n",
              "//\n",
              "// Licensed under the Apache License, Version 2.0 (the \"License\");\n",
              "// you may not use this file except in compliance with the License.\n",
              "// You may obtain a copy of the License at\n",
              "//\n",
              "//      http://www.apache.org/licenses/LICENSE-2.0\n",
              "//\n",
              "// Unless required by applicable law or agreed to in writing, software\n",
              "// distributed under the License is distributed on an \"AS IS\" BASIS,\n",
              "// WITHOUT WARRANTIES OR CONDITIONS OF ANY KIND, either express or implied.\n",
              "// See the License for the specific language governing permissions and\n",
              "// limitations under the License.\n",
              "\n",
              "/**\n",
              " * @fileoverview Helpers for google.colab Python module.\n",
              " */\n",
              "(function(scope) {\n",
              "function span(text, styleAttributes = {}) {\n",
              "  const element = document.createElement('span');\n",
              "  element.textContent = text;\n",
              "  for (const key of Object.keys(styleAttributes)) {\n",
              "    element.style[key] = styleAttributes[key];\n",
              "  }\n",
              "  return element;\n",
              "}\n",
              "\n",
              "// Max number of bytes which will be uploaded at a time.\n",
              "const MAX_PAYLOAD_SIZE = 100 * 1024;\n",
              "\n",
              "function _uploadFiles(inputId, outputId) {\n",
              "  const steps = uploadFilesStep(inputId, outputId);\n",
              "  const outputElement = document.getElementById(outputId);\n",
              "  // Cache steps on the outputElement to make it available for the next call\n",
              "  // to uploadFilesContinue from Python.\n",
              "  outputElement.steps = steps;\n",
              "\n",
              "  return _uploadFilesContinue(outputId);\n",
              "}\n",
              "\n",
              "// This is roughly an async generator (not supported in the browser yet),\n",
              "// where there are multiple asynchronous steps and the Python side is going\n",
              "// to poll for completion of each step.\n",
              "// This uses a Promise to block the python side on completion of each step,\n",
              "// then passes the result of the previous step as the input to the next step.\n",
              "function _uploadFilesContinue(outputId) {\n",
              "  const outputElement = document.getElementById(outputId);\n",
              "  const steps = outputElement.steps;\n",
              "\n",
              "  const next = steps.next(outputElement.lastPromiseValue);\n",
              "  return Promise.resolve(next.value.promise).then((value) => {\n",
              "    // Cache the last promise value to make it available to the next\n",
              "    // step of the generator.\n",
              "    outputElement.lastPromiseValue = value;\n",
              "    return next.value.response;\n",
              "  });\n",
              "}\n",
              "\n",
              "/**\n",
              " * Generator function which is called between each async step of the upload\n",
              " * process.\n",
              " * @param {string} inputId Element ID of the input file picker element.\n",
              " * @param {string} outputId Element ID of the output display.\n",
              " * @return {!Iterable<!Object>} Iterable of next steps.\n",
              " */\n",
              "function* uploadFilesStep(inputId, outputId) {\n",
              "  const inputElement = document.getElementById(inputId);\n",
              "  inputElement.disabled = false;\n",
              "\n",
              "  const outputElement = document.getElementById(outputId);\n",
              "  outputElement.innerHTML = '';\n",
              "\n",
              "  const pickedPromise = new Promise((resolve) => {\n",
              "    inputElement.addEventListener('change', (e) => {\n",
              "      resolve(e.target.files);\n",
              "    });\n",
              "  });\n",
              "\n",
              "  const cancel = document.createElement('button');\n",
              "  inputElement.parentElement.appendChild(cancel);\n",
              "  cancel.textContent = 'Cancel upload';\n",
              "  const cancelPromise = new Promise((resolve) => {\n",
              "    cancel.onclick = () => {\n",
              "      resolve(null);\n",
              "    };\n",
              "  });\n",
              "\n",
              "  // Wait for the user to pick the files.\n",
              "  const files = yield {\n",
              "    promise: Promise.race([pickedPromise, cancelPromise]),\n",
              "    response: {\n",
              "      action: 'starting',\n",
              "    }\n",
              "  };\n",
              "\n",
              "  cancel.remove();\n",
              "\n",
              "  // Disable the input element since further picks are not allowed.\n",
              "  inputElement.disabled = true;\n",
              "\n",
              "  if (!files) {\n",
              "    return {\n",
              "      response: {\n",
              "        action: 'complete',\n",
              "      }\n",
              "    };\n",
              "  }\n",
              "\n",
              "  for (const file of files) {\n",
              "    const li = document.createElement('li');\n",
              "    li.append(span(file.name, {fontWeight: 'bold'}));\n",
              "    li.append(span(\n",
              "        `(${file.type || 'n/a'}) - ${file.size} bytes, ` +\n",
              "        `last modified: ${\n",
              "            file.lastModifiedDate ? file.lastModifiedDate.toLocaleDateString() :\n",
              "                                    'n/a'} - `));\n",
              "    const percent = span('0% done');\n",
              "    li.appendChild(percent);\n",
              "\n",
              "    outputElement.appendChild(li);\n",
              "\n",
              "    const fileDataPromise = new Promise((resolve) => {\n",
              "      const reader = new FileReader();\n",
              "      reader.onload = (e) => {\n",
              "        resolve(e.target.result);\n",
              "      };\n",
              "      reader.readAsArrayBuffer(file);\n",
              "    });\n",
              "    // Wait for the data to be ready.\n",
              "    let fileData = yield {\n",
              "      promise: fileDataPromise,\n",
              "      response: {\n",
              "        action: 'continue',\n",
              "      }\n",
              "    };\n",
              "\n",
              "    // Use a chunked sending to avoid message size limits. See b/62115660.\n",
              "    let position = 0;\n",
              "    do {\n",
              "      const length = Math.min(fileData.byteLength - position, MAX_PAYLOAD_SIZE);\n",
              "      const chunk = new Uint8Array(fileData, position, length);\n",
              "      position += length;\n",
              "\n",
              "      const base64 = btoa(String.fromCharCode.apply(null, chunk));\n",
              "      yield {\n",
              "        response: {\n",
              "          action: 'append',\n",
              "          file: file.name,\n",
              "          data: base64,\n",
              "        },\n",
              "      };\n",
              "\n",
              "      let percentDone = fileData.byteLength === 0 ?\n",
              "          100 :\n",
              "          Math.round((position / fileData.byteLength) * 100);\n",
              "      percent.textContent = `${percentDone}% done`;\n",
              "\n",
              "    } while (position < fileData.byteLength);\n",
              "  }\n",
              "\n",
              "  // All done.\n",
              "  yield {\n",
              "    response: {\n",
              "      action: 'complete',\n",
              "    }\n",
              "  };\n",
              "}\n",
              "\n",
              "scope.google = scope.google || {};\n",
              "scope.google.colab = scope.google.colab || {};\n",
              "scope.google.colab._files = {\n",
              "  _uploadFiles,\n",
              "  _uploadFilesContinue,\n",
              "};\n",
              "})(self);\n",
              "</script> "
            ]
          },
          "metadata": {}
        },
        {
          "output_type": "stream",
          "name": "stdout",
          "text": [
            "Saving _enron1spam_ham_pedro.csv to _enron1spam_ham_pedro.csv\n",
            "Saving _gitHub_spam_pedro.csv to _gitHub_spam_pedro.csv\n",
            "Saving _spambase_pedro.csv to _spambase_pedro.csv\n"
          ]
        }
      ],
      "source": [
        "from google.colab import files\n",
        "\n",
        "# Subir el archivo desde tu escritorio a Google Colab\n",
        "uploaded = files.upload()\n",
        "\n",
        "# Obtener la ruta del archivo cargado\n",
        "for nombre_archivo in uploaded.keys():\n",
        "    ruta_archivo = nombre_archivo\n",
        "    #print(ruta_archivo)\n",
        "\n",
        "#uploaded es un dict\n",
        "#print(type(uploaded))\n",
        "#print(uploaded)"
      ]
    },
    {
      "cell_type": "markdown",
      "source": [
        "Los convertimos a dataframe"
      ],
      "metadata": {
        "id": "ZKvZTgE6Fu-5"
      }
    },
    {
      "cell_type": "code",
      "execution_count": null,
      "metadata": {
        "id": "pcAj3CPSihze"
      },
      "outputs": [],
      "source": [
        "import io\n",
        "import pandas as pd\n",
        "\n",
        "# Lee el archivo CSV con la primera fila como cabecera\n",
        "#df1 = pd.read_csv(io.BytesIO(uploaded['gitHub_spam_pedro.csv']))\n",
        "df1 = pd.read_csv('gitHub_spam_pedro.csv')\n",
        "\n",
        "#df2 = pd.read_csv(io.BytesIO(uploaded['enron1spam_ham_pedro.csv']))\n",
        "df2 = pd.read_csv('enron1spam_ham_pedro.csv')\n",
        "\n",
        "#df3 = pd.read_csv(io.BytesIO(uploaded['spambase_pedro.csv']))\n",
        "df3 = pd.read_csv('spambase_pedro.csv')\n",
        "\n",
        "#print(df1.shape)\n",
        "#print(df2.shape)\n",
        "#print(df3.shape)\n",
        "\n",
        "#columna = df1['Class']\n",
        "#columna = df1.iloc[:, 57]\n",
        "#print(columna)"
      ]
    },
    {
      "cell_type": "markdown",
      "source": [
        "Si hacemos la prueba 1 comentamos la prueba 2 y viceversa.\n",
        "\n",
        "En la prueba 1 usamos los 3 ficheros pero quitamos 3 características.\n",
        "\n",
        "En la prueba 2 no usamos el fichero de Enron."
      ],
      "metadata": {
        "id": "IARRKr42FzYZ"
      }
    },
    {
      "cell_type": "code",
      "execution_count": null,
      "metadata": {
        "id": "b923kjaHnynp"
      },
      "outputs": [],
      "source": [
        "# Prueba 1 (Uso los 3 ficheros pero 54 de 57 caracteristicas,\n",
        "# ya que uno de los ficheros solo usa minusculas)\n",
        "\n",
        "# Concatenar los tres DataFrames en uno solo\n",
        "df = pd.concat([df1, df2, df3], ignore_index=True)\n",
        "#print(df)\n",
        "\n",
        "# Eliminar las 3 columnas de caracteristicas de mayusculas\n",
        "df_sin_mayusculas = df.drop('capital_run_length_average', axis = 1)\n",
        "df_sin_mayusculas = df_sin_mayusculas.drop('capital_run_length_longest', axis = 1)\n",
        "df_sin_mayusculas = df_sin_mayusculas.drop('capital_run_length_total', axis = 1)\n",
        "#print(df_sin_mayusuculas)\n",
        "\n",
        "# # Prueba 2 (Uso 2 ficheros y uso las 57 caracteristicas)\n",
        "# df_prueba2 = pd.concat([df1, df3], ignore_index=True)"
      ]
    },
    {
      "cell_type": "markdown",
      "source": [
        "De nuevo, si hacemos la prueba 1 comentamos la prueba 2 y viceversa.\n",
        "\n",
        "Aquí separamos los datos en entrenamiento y pruebas."
      ],
      "metadata": {
        "id": "QTZOeqYUGL0o"
      }
    },
    {
      "cell_type": "code",
      "execution_count": null,
      "metadata": {
        "id": "rhIfjPg-jTfT"
      },
      "outputs": [],
      "source": [
        "from sklearn.model_selection import train_test_split\n",
        "\n",
        "# Dividir los datos en conjuntos de entrenamiento y prueba\n",
        "# Prueba 1\n",
        "train_df, test_df = train_test_split(df_sin_mayusculas, test_size=0.2, random_state=42)\n",
        "\n",
        "# Prueba 2\n",
        "#train_df, test_df = train_test_split(df_prueba2, test_size=0.2, random_state=42)\n",
        "\n",
        "# Separar las características (X) y las etiquetas (y) del conjunto de entrenamiento y prueba\n",
        "X_train = train_df.drop('Class', axis = 1)\n",
        "y_train = train_df['Class']\n",
        "\n",
        "X_test = test_df.drop('Class', axis = 1)\n",
        "y_test = test_df['Class']\n",
        "\n",
        "#print(X_test)"
      ]
    },
    {
      "cell_type": "markdown",
      "source": [
        "Normalizamos los datos."
      ],
      "metadata": {
        "id": "HI2zCL0hGcHw"
      }
    },
    {
      "cell_type": "code",
      "execution_count": null,
      "metadata": {
        "id": "S3IwHxRQvqN-"
      },
      "outputs": [],
      "source": [
        "from sklearn.preprocessing import StandardScaler\n",
        "\n",
        "# Escalar los datos (es importante escalar los datos para que\n",
        "# tengan una media de 0 y una desviación estándar de 1)\n",
        "scaler = StandardScaler()\n",
        "X_train_scaled = scaler.fit_transform(X_train)\n",
        "X_test_scaled = scaler.transform(X_test)"
      ]
    },
    {
      "cell_type": "markdown",
      "source": [
        "Defino el modelo. Sólo seleccionamos uno, los demás los comentamos."
      ],
      "metadata": {
        "id": "Z54QrDAmGjeZ"
      }
    },
    {
      "cell_type": "code",
      "execution_count": null,
      "metadata": {
        "id": "uvzAjJCOu6tj"
      },
      "outputs": [],
      "source": [
        "import tensorflow as tf\n",
        "\n",
        "# Definir el modelo MLP (Perceptron multicapa)\n",
        "# Se agrega una capa (de entrada) densa totalmente conectada con 64 neuronas y activación ReLU,\n",
        "# con tamaño de entrada 57 (X_train_scaled.shape[1])\n",
        "# Se agrega otra capa densa con 32 neuronas y la misma función de activación ReLU\n",
        "# Se agrega la capa de salida. Esta capa tiene una sola neurona, ya que estamos realizando\n",
        "# una clasificación binaria\n",
        "\n",
        "# Modelo 1\n",
        "model = tf.keras.models.Sequential([\n",
        "    tf.keras.layers.Dense(64, activation='relu', input_shape=(X_train_scaled.shape[1],)),\n",
        "    tf.keras.layers.Dense(32, activation='relu'),\n",
        "    tf.keras.layers.Dense(1, activation='sigmoid')\n",
        "])\n",
        "\n",
        "# # Modelo 2 Con una capa más\n",
        "# model = tf.keras.models.Sequential([\n",
        "#     tf.keras.layers.Dense(128, activation='relu', input_shape=(X_train_scaled.shape[1],)),\n",
        "#     tf.keras.layers.Dense(64, activation='relu'),\n",
        "#     tf.keras.layers.Dense(32, activation='relu'),\n",
        "#     tf.keras.layers.Dense(1, activation='sigmoid')\n",
        "# ])\n",
        "\n",
        "# # Modelo 3 Con regularizador\n",
        "# from tensorflow.keras.regularizers import l2\n",
        "# model = tf.keras.models.Sequential([\n",
        "#     tf.keras.layers.Dense(128, activation='relu', kernel_regularizer=l2(0.001), input_shape=(X_train_scaled.shape[1],)),\n",
        "#     tf.keras.layers.Dense(64, activation='relu', kernel_regularizer=l2(0.001)),\n",
        "#     tf.keras.layers.Dense(32, activation='relu', kernel_regularizer=l2(0.001)),\n",
        "#     tf.keras.layers.Dense(1, activation='sigmoid')\n",
        "# ])\n",
        "\n",
        "# # Modelo 4 Con Dropout\n",
        "# model = tf.keras.models.Sequential([\n",
        "#     tf.keras.layers.Dense(128, activation='relu', input_shape=(X_train_scaled.shape[1],)),\n",
        "#     tf.keras.layers.Dropout(0.5),\n",
        "#     tf.keras.layers.Dense(64, activation='relu'),\n",
        "#     tf.keras.layers.Dropout(0.5),\n",
        "#     tf.keras.layers.Dense(32, activation='relu'),\n",
        "#     tf.keras.layers.Dense(1, activation='sigmoid')\n",
        "# ])\n"
      ]
    },
    {
      "cell_type": "markdown",
      "source": [
        "Compilamos el modelo."
      ],
      "metadata": {
        "id": "km-HtNqTGumX"
      }
    },
    {
      "cell_type": "code",
      "execution_count": null,
      "metadata": {
        "id": "bOZTz56GwSyP"
      },
      "outputs": [],
      "source": [
        "# Compilar el modelo\n",
        "model.compile(optimizer='adam', loss='binary_crossentropy', metrics=['accuracy'])"
      ]
    },
    {
      "cell_type": "markdown",
      "source": [
        "Entrenamos el modelo."
      ],
      "metadata": {
        "id": "8oLgRyRVGwuf"
      }
    },
    {
      "cell_type": "code",
      "execution_count": null,
      "metadata": {
        "colab": {
          "base_uri": "https://localhost:8080/"
        },
        "id": "dNOUpZJAwV_v",
        "outputId": "7691bf7d-8383-4562-edc7-131cbe518d3e"
      },
      "outputs": [
        {
          "output_type": "stream",
          "name": "stdout",
          "text": [
            "Epoch 1/100\n",
            "204/204 [==============================] - 2s 4ms/step - loss: 0.4947 - accuracy: 0.8825 - val_loss: 0.4247 - val_accuracy: 0.9048\n",
            "Epoch 2/100\n",
            "204/204 [==============================] - 1s 3ms/step - loss: 0.3848 - accuracy: 0.9054 - val_loss: 0.3742 - val_accuracy: 0.9023\n",
            "Epoch 3/100\n",
            "204/204 [==============================] - 1s 3ms/step - loss: 0.3411 - accuracy: 0.9086 - val_loss: 0.3513 - val_accuracy: 0.9060\n",
            "Epoch 4/100\n",
            "204/204 [==============================] - 1s 3ms/step - loss: 0.3132 - accuracy: 0.9138 - val_loss: 0.3375 - val_accuracy: 0.9023\n",
            "Epoch 5/100\n",
            "204/204 [==============================] - 1s 3ms/step - loss: 0.2945 - accuracy: 0.9158 - val_loss: 0.3469 - val_accuracy: 0.8999\n",
            "Epoch 6/100\n",
            "204/204 [==============================] - 1s 4ms/step - loss: 0.2827 - accuracy: 0.9190 - val_loss: 0.3247 - val_accuracy: 0.9036\n",
            "Epoch 7/100\n",
            "204/204 [==============================] - 1s 4ms/step - loss: 0.2711 - accuracy: 0.9190 - val_loss: 0.3016 - val_accuracy: 0.9115\n",
            "Epoch 8/100\n",
            "204/204 [==============================] - 1s 4ms/step - loss: 0.2628 - accuracy: 0.9210 - val_loss: 0.2979 - val_accuracy: 0.9122\n",
            "Epoch 9/100\n",
            "204/204 [==============================] - 1s 5ms/step - loss: 0.2557 - accuracy: 0.9230 - val_loss: 0.2993 - val_accuracy: 0.9054\n",
            "Epoch 10/100\n",
            "204/204 [==============================] - 1s 4ms/step - loss: 0.2511 - accuracy: 0.9243 - val_loss: 0.2899 - val_accuracy: 0.9097\n",
            "Epoch 11/100\n",
            "204/204 [==============================] - 1s 3ms/step - loss: 0.2454 - accuracy: 0.9233 - val_loss: 0.2993 - val_accuracy: 0.9097\n",
            "Epoch 12/100\n",
            "204/204 [==============================] - 1s 3ms/step - loss: 0.2418 - accuracy: 0.9255 - val_loss: 0.2841 - val_accuracy: 0.9042\n",
            "Epoch 13/100\n",
            "204/204 [==============================] - 1s 3ms/step - loss: 0.2405 - accuracy: 0.9278 - val_loss: 0.2728 - val_accuracy: 0.9060\n",
            "Epoch 14/100\n",
            "204/204 [==============================] - 1s 3ms/step - loss: 0.2345 - accuracy: 0.9275 - val_loss: 0.2759 - val_accuracy: 0.9146\n",
            "Epoch 15/100\n",
            "204/204 [==============================] - 1s 3ms/step - loss: 0.2313 - accuracy: 0.9286 - val_loss: 0.2779 - val_accuracy: 0.9122\n",
            "Epoch 16/100\n",
            "204/204 [==============================] - 1s 3ms/step - loss: 0.2288 - accuracy: 0.9312 - val_loss: 0.2762 - val_accuracy: 0.9085\n",
            "Epoch 17/100\n",
            "204/204 [==============================] - 1s 3ms/step - loss: 0.2260 - accuracy: 0.9309 - val_loss: 0.2707 - val_accuracy: 0.9079\n",
            "Epoch 18/100\n",
            "204/204 [==============================] - 1s 3ms/step - loss: 0.2243 - accuracy: 0.9315 - val_loss: 0.2730 - val_accuracy: 0.9115\n",
            "Epoch 19/100\n",
            "204/204 [==============================] - 1s 3ms/step - loss: 0.2235 - accuracy: 0.9295 - val_loss: 0.2687 - val_accuracy: 0.9109\n",
            "Epoch 20/100\n",
            "204/204 [==============================] - 1s 3ms/step - loss: 0.2205 - accuracy: 0.9315 - val_loss: 0.2597 - val_accuracy: 0.9128\n",
            "Epoch 21/100\n",
            "204/204 [==============================] - 1s 3ms/step - loss: 0.2167 - accuracy: 0.9323 - val_loss: 0.2645 - val_accuracy: 0.9152\n",
            "Epoch 22/100\n",
            "204/204 [==============================] - 1s 3ms/step - loss: 0.2174 - accuracy: 0.9312 - val_loss: 0.2591 - val_accuracy: 0.9115\n",
            "Epoch 23/100\n",
            "204/204 [==============================] - 1s 3ms/step - loss: 0.2157 - accuracy: 0.9313 - val_loss: 0.2764 - val_accuracy: 0.9085\n",
            "Epoch 24/100\n",
            "204/204 [==============================] - 1s 3ms/step - loss: 0.2156 - accuracy: 0.9332 - val_loss: 0.2553 - val_accuracy: 0.9146\n",
            "Epoch 25/100\n",
            "204/204 [==============================] - 1s 3ms/step - loss: 0.2141 - accuracy: 0.9333 - val_loss: 0.2628 - val_accuracy: 0.9134\n",
            "Epoch 26/100\n",
            "204/204 [==============================] - 1s 5ms/step - loss: 0.2148 - accuracy: 0.9323 - val_loss: 0.2638 - val_accuracy: 0.9060\n",
            "Epoch 27/100\n",
            "204/204 [==============================] - 2s 8ms/step - loss: 0.2118 - accuracy: 0.9335 - val_loss: 0.2679 - val_accuracy: 0.9165\n",
            "Epoch 28/100\n",
            "204/204 [==============================] - 2s 9ms/step - loss: 0.2102 - accuracy: 0.9356 - val_loss: 0.2714 - val_accuracy: 0.9158\n",
            "Epoch 29/100\n",
            "204/204 [==============================] - 2s 8ms/step - loss: 0.2078 - accuracy: 0.9347 - val_loss: 0.2792 - val_accuracy: 0.9115\n",
            "Epoch 30/100\n",
            "204/204 [==============================] - 1s 7ms/step - loss: 0.2068 - accuracy: 0.9356 - val_loss: 0.2579 - val_accuracy: 0.9158\n",
            "Epoch 31/100\n",
            "204/204 [==============================] - 1s 3ms/step - loss: 0.2067 - accuracy: 0.9356 - val_loss: 0.2567 - val_accuracy: 0.9146\n",
            "Epoch 32/100\n",
            "204/204 [==============================] - 1s 3ms/step - loss: 0.2062 - accuracy: 0.9373 - val_loss: 0.2625 - val_accuracy: 0.9122\n",
            "Epoch 33/100\n",
            "204/204 [==============================] - 1s 3ms/step - loss: 0.2028 - accuracy: 0.9384 - val_loss: 0.2673 - val_accuracy: 0.9091\n",
            "Epoch 34/100\n",
            "204/204 [==============================] - 1s 3ms/step - loss: 0.2031 - accuracy: 0.9382 - val_loss: 0.2598 - val_accuracy: 0.9140\n",
            "Epoch 35/100\n",
            "204/204 [==============================] - 1s 3ms/step - loss: 0.2006 - accuracy: 0.9381 - val_loss: 0.2765 - val_accuracy: 0.9122\n",
            "Epoch 36/100\n",
            "204/204 [==============================] - 1s 3ms/step - loss: 0.2005 - accuracy: 0.9389 - val_loss: 0.2622 - val_accuracy: 0.9122\n",
            "Epoch 37/100\n",
            "204/204 [==============================] - 1s 3ms/step - loss: 0.1987 - accuracy: 0.9395 - val_loss: 0.2560 - val_accuracy: 0.9152\n",
            "Epoch 38/100\n",
            "204/204 [==============================] - 1s 3ms/step - loss: 0.1976 - accuracy: 0.9398 - val_loss: 0.2705 - val_accuracy: 0.9158\n",
            "Epoch 39/100\n",
            "204/204 [==============================] - 1s 3ms/step - loss: 0.1988 - accuracy: 0.9418 - val_loss: 0.2642 - val_accuracy: 0.9115\n",
            "Epoch 40/100\n",
            "204/204 [==============================] - 1s 3ms/step - loss: 0.1972 - accuracy: 0.9424 - val_loss: 0.2792 - val_accuracy: 0.9109\n",
            "Epoch 41/100\n",
            "204/204 [==============================] - 1s 3ms/step - loss: 0.1990 - accuracy: 0.9399 - val_loss: 0.2578 - val_accuracy: 0.9195\n",
            "Epoch 42/100\n",
            "204/204 [==============================] - 1s 4ms/step - loss: 0.1968 - accuracy: 0.9390 - val_loss: 0.2686 - val_accuracy: 0.9165\n",
            "Epoch 43/100\n",
            "204/204 [==============================] - 1s 4ms/step - loss: 0.1942 - accuracy: 0.9430 - val_loss: 0.2628 - val_accuracy: 0.9152\n",
            "Epoch 44/100\n",
            "204/204 [==============================] - 1s 5ms/step - loss: 0.1930 - accuracy: 0.9406 - val_loss: 0.2559 - val_accuracy: 0.9214\n",
            "Epoch 45/100\n",
            "204/204 [==============================] - 1s 5ms/step - loss: 0.1929 - accuracy: 0.9435 - val_loss: 0.2670 - val_accuracy: 0.9066\n",
            "Epoch 46/100\n",
            "204/204 [==============================] - 1s 4ms/step - loss: 0.1925 - accuracy: 0.9432 - val_loss: 0.2526 - val_accuracy: 0.9171\n",
            "Epoch 47/100\n",
            "204/204 [==============================] - 1s 3ms/step - loss: 0.1911 - accuracy: 0.9432 - val_loss: 0.2575 - val_accuracy: 0.9158\n",
            "Epoch 48/100\n",
            "204/204 [==============================] - 1s 3ms/step - loss: 0.1894 - accuracy: 0.9422 - val_loss: 0.2505 - val_accuracy: 0.9220\n",
            "Epoch 49/100\n",
            "204/204 [==============================] - 1s 3ms/step - loss: 0.1885 - accuracy: 0.9433 - val_loss: 0.2589 - val_accuracy: 0.9201\n",
            "Epoch 50/100\n",
            "204/204 [==============================] - 1s 3ms/step - loss: 0.1895 - accuracy: 0.9432 - val_loss: 0.2829 - val_accuracy: 0.9122\n",
            "Epoch 51/100\n",
            "204/204 [==============================] - 1s 3ms/step - loss: 0.1877 - accuracy: 0.9449 - val_loss: 0.2763 - val_accuracy: 0.9122\n",
            "Epoch 52/100\n",
            "204/204 [==============================] - 1s 3ms/step - loss: 0.1871 - accuracy: 0.9424 - val_loss: 0.2586 - val_accuracy: 0.9165\n",
            "Epoch 53/100\n",
            "204/204 [==============================] - 1s 3ms/step - loss: 0.1858 - accuracy: 0.9488 - val_loss: 0.2477 - val_accuracy: 0.9220\n",
            "Epoch 54/100\n",
            "204/204 [==============================] - 1s 3ms/step - loss: 0.1868 - accuracy: 0.9432 - val_loss: 0.2685 - val_accuracy: 0.9048\n",
            "Epoch 55/100\n",
            "204/204 [==============================] - 1s 3ms/step - loss: 0.1875 - accuracy: 0.9455 - val_loss: 0.2873 - val_accuracy: 0.9109\n",
            "Epoch 56/100\n",
            "204/204 [==============================] - 1s 3ms/step - loss: 0.1855 - accuracy: 0.9470 - val_loss: 0.2655 - val_accuracy: 0.9146\n",
            "Epoch 57/100\n",
            "204/204 [==============================] - 1s 3ms/step - loss: 0.1824 - accuracy: 0.9465 - val_loss: 0.2478 - val_accuracy: 0.9226\n",
            "Epoch 58/100\n",
            "204/204 [==============================] - 1s 3ms/step - loss: 0.1848 - accuracy: 0.9464 - val_loss: 0.2565 - val_accuracy: 0.9189\n",
            "Epoch 59/100\n",
            "204/204 [==============================] - 1s 6ms/step - loss: 0.1827 - accuracy: 0.9456 - val_loss: 0.2526 - val_accuracy: 0.9232\n",
            "Epoch 60/100\n",
            "204/204 [==============================] - 1s 3ms/step - loss: 0.1829 - accuracy: 0.9450 - val_loss: 0.2624 - val_accuracy: 0.9128\n",
            "Epoch 61/100\n",
            "204/204 [==============================] - 1s 3ms/step - loss: 0.1821 - accuracy: 0.9458 - val_loss: 0.2522 - val_accuracy: 0.9257\n",
            "Epoch 62/100\n",
            "204/204 [==============================] - 1s 4ms/step - loss: 0.1818 - accuracy: 0.9441 - val_loss: 0.2604 - val_accuracy: 0.9165\n",
            "Epoch 63/100\n",
            "204/204 [==============================] - 1s 4ms/step - loss: 0.1815 - accuracy: 0.9465 - val_loss: 0.2507 - val_accuracy: 0.9281\n",
            "Epoch 64/100\n",
            "204/204 [==============================] - 1s 5ms/step - loss: 0.1827 - accuracy: 0.9455 - val_loss: 0.2552 - val_accuracy: 0.9195\n",
            "Epoch 65/100\n",
            "204/204 [==============================] - 1s 5ms/step - loss: 0.1806 - accuracy: 0.9482 - val_loss: 0.2750 - val_accuracy: 0.9165\n",
            "Epoch 66/100\n",
            "204/204 [==============================] - 1s 3ms/step - loss: 0.1790 - accuracy: 0.9458 - val_loss: 0.2550 - val_accuracy: 0.9214\n",
            "Epoch 67/100\n",
            "204/204 [==============================] - 1s 3ms/step - loss: 0.1767 - accuracy: 0.9467 - val_loss: 0.2700 - val_accuracy: 0.9238\n",
            "Epoch 68/100\n",
            "204/204 [==============================] - 1s 3ms/step - loss: 0.1797 - accuracy: 0.9459 - val_loss: 0.2572 - val_accuracy: 0.9177\n",
            "Epoch 69/100\n",
            "204/204 [==============================] - 1s 3ms/step - loss: 0.1774 - accuracy: 0.9469 - val_loss: 0.2543 - val_accuracy: 0.9226\n",
            "Epoch 70/100\n",
            "204/204 [==============================] - 1s 3ms/step - loss: 0.1778 - accuracy: 0.9475 - val_loss: 0.2589 - val_accuracy: 0.9251\n",
            "Epoch 71/100\n",
            "204/204 [==============================] - 1s 3ms/step - loss: 0.1755 - accuracy: 0.9496 - val_loss: 0.2548 - val_accuracy: 0.9201\n",
            "Epoch 72/100\n",
            "204/204 [==============================] - 1s 3ms/step - loss: 0.1778 - accuracy: 0.9475 - val_loss: 0.2518 - val_accuracy: 0.9238\n",
            "Epoch 73/100\n",
            "204/204 [==============================] - 1s 3ms/step - loss: 0.1763 - accuracy: 0.9492 - val_loss: 0.2544 - val_accuracy: 0.9220\n",
            "Epoch 74/100\n",
            "204/204 [==============================] - 1s 3ms/step - loss: 0.1793 - accuracy: 0.9481 - val_loss: 0.2498 - val_accuracy: 0.9287\n",
            "Epoch 75/100\n",
            "204/204 [==============================] - 1s 3ms/step - loss: 0.1766 - accuracy: 0.9495 - val_loss: 0.2719 - val_accuracy: 0.9079\n",
            "Epoch 76/100\n",
            "204/204 [==============================] - 1s 3ms/step - loss: 0.1780 - accuracy: 0.9504 - val_loss: 0.2526 - val_accuracy: 0.9244\n",
            "Epoch 77/100\n",
            "204/204 [==============================] - 1s 3ms/step - loss: 0.1749 - accuracy: 0.9502 - val_loss: 0.2665 - val_accuracy: 0.9128\n",
            "Epoch 78/100\n",
            "204/204 [==============================] - 1s 3ms/step - loss: 0.1772 - accuracy: 0.9482 - val_loss: 0.2555 - val_accuracy: 0.9232\n",
            "Epoch 79/100\n",
            "204/204 [==============================] - 1s 3ms/step - loss: 0.1745 - accuracy: 0.9476 - val_loss: 0.2544 - val_accuracy: 0.9201\n",
            "Epoch 80/100\n",
            "204/204 [==============================] - 1s 3ms/step - loss: 0.1767 - accuracy: 0.9490 - val_loss: 0.2448 - val_accuracy: 0.9263\n",
            "Epoch 81/100\n",
            "204/204 [==============================] - 1s 3ms/step - loss: 0.1736 - accuracy: 0.9495 - val_loss: 0.2721 - val_accuracy: 0.9072\n",
            "Epoch 82/100\n",
            "204/204 [==============================] - 1s 5ms/step - loss: 0.1707 - accuracy: 0.9513 - val_loss: 0.2640 - val_accuracy: 0.9189\n",
            "Epoch 83/100\n",
            "204/204 [==============================] - 1s 6ms/step - loss: 0.1714 - accuracy: 0.9488 - val_loss: 0.2569 - val_accuracy: 0.9251\n",
            "Epoch 84/100\n",
            "204/204 [==============================] - 1s 5ms/step - loss: 0.1736 - accuracy: 0.9504 - val_loss: 0.2478 - val_accuracy: 0.9251\n",
            "Epoch 85/100\n",
            "204/204 [==============================] - 1s 5ms/step - loss: 0.1709 - accuracy: 0.9488 - val_loss: 0.2554 - val_accuracy: 0.9306\n",
            "Epoch 86/100\n",
            "204/204 [==============================] - 1s 3ms/step - loss: 0.1720 - accuracy: 0.9507 - val_loss: 0.2536 - val_accuracy: 0.9251\n",
            "Epoch 87/100\n",
            "204/204 [==============================] - 1s 3ms/step - loss: 0.1764 - accuracy: 0.9499 - val_loss: 0.2457 - val_accuracy: 0.9244\n",
            "Epoch 88/100\n",
            "204/204 [==============================] - 1s 3ms/step - loss: 0.1693 - accuracy: 0.9505 - val_loss: 0.2489 - val_accuracy: 0.9251\n",
            "Epoch 89/100\n",
            "204/204 [==============================] - 1s 3ms/step - loss: 0.1735 - accuracy: 0.9508 - val_loss: 0.2498 - val_accuracy: 0.9269\n",
            "Epoch 90/100\n",
            "204/204 [==============================] - 1s 3ms/step - loss: 0.1711 - accuracy: 0.9490 - val_loss: 0.2474 - val_accuracy: 0.9257\n",
            "Epoch 91/100\n",
            "204/204 [==============================] - 1s 3ms/step - loss: 0.1704 - accuracy: 0.9522 - val_loss: 0.2474 - val_accuracy: 0.9294\n",
            "Epoch 92/100\n",
            "204/204 [==============================] - 1s 3ms/step - loss: 0.1697 - accuracy: 0.9513 - val_loss: 0.2477 - val_accuracy: 0.9300\n",
            "Epoch 93/100\n",
            "204/204 [==============================] - 1s 3ms/step - loss: 0.1703 - accuracy: 0.9487 - val_loss: 0.2596 - val_accuracy: 0.9251\n",
            "Epoch 94/100\n",
            "204/204 [==============================] - 1s 3ms/step - loss: 0.1684 - accuracy: 0.9508 - val_loss: 0.2544 - val_accuracy: 0.9263\n",
            "Epoch 95/100\n",
            "204/204 [==============================] - 1s 3ms/step - loss: 0.1706 - accuracy: 0.9502 - val_loss: 0.2573 - val_accuracy: 0.9214\n",
            "Epoch 96/100\n",
            "204/204 [==============================] - 1s 3ms/step - loss: 0.1682 - accuracy: 0.9521 - val_loss: 0.2492 - val_accuracy: 0.9281\n",
            "Epoch 97/100\n",
            "204/204 [==============================] - 1s 3ms/step - loss: 0.1681 - accuracy: 0.9519 - val_loss: 0.2519 - val_accuracy: 0.9238\n",
            "Epoch 98/100\n",
            "204/204 [==============================] - 1s 3ms/step - loss: 0.1676 - accuracy: 0.9505 - val_loss: 0.2569 - val_accuracy: 0.9226\n",
            "Epoch 99/100\n",
            "204/204 [==============================] - 1s 3ms/step - loss: 0.1683 - accuracy: 0.9515 - val_loss: 0.2521 - val_accuracy: 0.9251\n",
            "Epoch 100/100\n",
            "204/204 [==============================] - 1s 3ms/step - loss: 0.1671 - accuracy: 0.9525 - val_loss: 0.2610 - val_accuracy: 0.9183\n",
            "Ya\n"
          ]
        }
      ],
      "source": [
        "# Entrenar el modelo\n",
        "history = model.fit(X_train_scaled, y_train, epochs=100, batch_size=32, validation_split=0.2)\n",
        "print(\"Ya\")"
      ]
    },
    {
      "cell_type": "markdown",
      "source": [
        "Mostramos la gráfica de la pérdida."
      ],
      "metadata": {
        "id": "QT5GTt3pG2Tn"
      }
    },
    {
      "cell_type": "code",
      "execution_count": null,
      "metadata": {
        "colab": {
          "base_uri": "https://localhost:8080/",
          "height": 468
        },
        "id": "ENXHXHkjwnV-",
        "outputId": "a9f10461-7b3f-419d-ae6e-ce7971309e7e"
      },
      "outputs": [
        {
          "output_type": "execute_result",
          "data": {
            "text/plain": [
              "[<matplotlib.lines.Line2D at 0x78351a2d72b0>]"
            ]
          },
          "metadata": {},
          "execution_count": 64
        },
        {
          "output_type": "display_data",
          "data": {
            "text/plain": [
              "<Figure size 640x480 with 1 Axes>"
            ],
            "image/png": "[encoded data removed]"
          },
          "metadata": {}
        }
      ],
      "source": [
        "import matplotlib.pyplot as plt\n",
        "plt.xlabel(\"Epoca\")\n",
        "plt.ylabel(\"Perdida\")\n",
        "plt.plot(history.history[\"loss\"])"
      ]
    },
    {
      "cell_type": "markdown",
      "source": [
        "Mostramos la gráfica de la precisión."
      ],
      "metadata": {
        "id": "i9B7NuDrG82v"
      }
    },
    {
      "cell_type": "code",
      "execution_count": null,
      "metadata": {
        "colab": {
          "base_uri": "https://localhost:8080/",
          "height": 466
        },
        "id": "EjkUQ1NsGxb2",
        "outputId": "6206de70-08d1-4504-8a60-c15071377bcc"
      },
      "outputs": [
        {
          "output_type": "execute_result",
          "data": {
            "text/plain": [
              "[<matplotlib.lines.Line2D at 0x78351ab2f010>]"
            ]
          },
          "metadata": {},
          "execution_count": 65
        },
        {
          "output_type": "display_data",
          "data": {
            "text/plain": [
              "<Figure size 640x480 with 1 Axes>"
            ],
            "image/png": "[encoded data removed]"
          },
          "metadata": {}
        }
      ],
      "source": [
        "plt.xlabel(\"Epoca\")\n",
        "plt.ylabel(\"Precision\")\n",
        "plt.plot(history.history[\"accuracy\"])"
      ]
    },
    {
      "cell_type": "markdown",
      "source": [
        "Vemos como es la pérdida y la precisión en los datos de prueba."
      ],
      "metadata": {
        "id": "dy7Au_XiHBh2"
      }
    },
    {
      "cell_type": "code",
      "execution_count": null,
      "metadata": {
        "colab": {
          "base_uri": "https://localhost:8080/"
        },
        "id": "bE-hmfGlwf_-",
        "outputId": "af64eb62-bf04-4f03-80db-8e88d8af84ae"
      },
      "outputs": [
        {
          "output_type": "stream",
          "name": "stdout",
          "text": [
            "64/64 [==============================] - 0s 2ms/step - loss: 0.2528 - accuracy: 0.9224\n",
            "Loss en el conjunto de prueba: 0.2527841031551361\n",
            "Accuracy en el conjunto de prueba: 0.9223587512969971\n"
          ]
        }
      ],
      "source": [
        "# Evaluar el modelo en el conjunto de prueba\n",
        "loss, accuracy = model.evaluate(X_test_scaled, y_test)\n",
        "print(f'Loss en el conjunto de prueba: {loss}')\n",
        "print(f'Accuracy en el conjunto de prueba: {accuracy}')"
      ]
    },
    {
      "cell_type": "markdown",
      "source": [
        "Aquí hacemos tres predicción de prueba.\n",
        "\n",
        "Las hacemos con los datos normalizados o sin normalizar, para ver si varía.\n",
        "\n",
        "Lo predicción correcta sería Sí, Sí, No."
      ],
      "metadata": {
        "id": "EzrGf68OHOjY"
      }
    },
    {
      "cell_type": "code",
      "execution_count": null,
      "metadata": {
        "colab": {
          "base_uri": "https://localhost:8080/"
        },
        "id": "OjATV1vN0UYv",
        "outputId": "36120e27-bed4-4485-98aa-98be512f0504"
      },
      "outputs": [
        {
          "output_type": "stream",
          "name": "stdout",
          "text": [
            "1/1 [==============================] - 0s 105ms/step\n",
            "1/1 [==============================] - 0s 21ms/step\n",
            "1/1 [==============================] - 0s 20ms/step\n",
            "1/1 [==============================] - 0s 70ms/step\n",
            "1/1 [==============================] - 0s 21ms/step\n",
            "1/1 [==============================] - 0s 21ms/step\n",
            "Predicción 1: No es spam 0.0\n",
            "Predicción 2: Es spam 0.99835294\n",
            "Predicción 3: No es spam 0.46026704\n",
            "Predicción 1a: No es spam 0.46026704\n",
            "Predicción 2a: Es spam 0.99835294\n",
            "Predicción 3a: No es spam 0.46026704\n"
          ]
        }
      ],
      "source": [
        "import numpy as np\n",
        "\n",
        "#Spam\n",
        "pruebaSpam = [0,0.64,0.64,0,0.32,0,0,0,0,0,0,0.64,0,0,0,0.32,0,1.29,1.93,0,0.96,0,0,0,0,0,0,0,0,0,0,0,0,0,0,0,0,0,0,0,0,0,0,0,0,0,0,0,0,0,0,778,0,0,3.756,61,278]\n",
        "pruebaSpam2 = [0.0,0.0,0.0,0.0,0.0,0.0,0.0,0.0,0.0,0.0,3.57,0.0,0.0,0.0,0.0,0.0,0.0,0.0,0.0,0.0,0.0,0.0,0.0,0.0,0.0,0.0,0.0,0.0,0.0,0.0,0.0,0.0,0.0,0.0,0.0,0.0,0.0,0.0,0.0,0.0,0.0,0.0,0.0,0.0,0.0,0.0,0.0,0.0,0.0,0.64,0.0,0.0,0.0,0.0,1.25,2,10]\n",
        "\n",
        "#No Spam\n",
        "pruebaNoSpam = [0,0,0,0,0,0,0,0,0,0,0,0,0,0,0,0,0,0,0,0,0,0,0,0,0,0,0,0,0,0,0,0,0,0,0,0,0,0,0,0,0,0,0,0,0,0,0,0,22,22,19,22,22,22,3.482,5,5.902]\n",
        "\n",
        "# Convertir la lista de valores en un array numpy\n",
        "matrizPruebaSpam = np.array(pruebaSpam).reshape(1, -1)  # reshape para convertirlo en una matriz de una fila\n",
        "matrizPruebaSpam2 = np.array(pruebaSpam2).reshape(1, -1)  # reshape para convertirlo en una matriz de una fila\n",
        "matrizPruebaNoSpam = np.array(pruebaNoSpam).reshape(1, -1)  # reshape para convertirlo en una matriz de una fila\n",
        "\n",
        "# Lista de nombres de características\n",
        "nombres_columnas = [\n",
        "    'word_freq_make', 'word_freq_address', 'word_freq_all', 'word_freq_3d', 'word_freq_our',\n",
        "    'word_freq_over', 'word_freq_remove', 'word_freq_internet', 'word_freq_order', 'word_freq_mail',\n",
        "    'word_freq_receive', 'word_freq_will', 'word_freq_people', 'word_freq_report', 'word_freq_addresses',\n",
        "    'word_freq_free', 'word_freq_business', 'word_freq_email', 'word_freq_you', 'word_freq_credit',\n",
        "    'word_freq_your', 'word_freq_font', 'word_freq_000', 'word_freq_money', 'word_freq_hp', 'word_freq_hpl',\n",
        "    'word_freq_george', 'word_freq_650', 'word_freq_lab', 'word_freq_labs', 'word_freq_telnet', 'word_freq_857',\n",
        "    'word_freq_data', 'word_freq_415', 'word_freq_85', 'word_freq_technology', 'word_freq_1999', 'word_freq_parts',\n",
        "    'word_freq_pm', 'word_freq_direct', 'word_freq_cs', 'word_freq_meeting', 'word_freq_original',\n",
        "    'word_freq_project', 'word_freq_re', 'word_freq_edu', 'word_freq_table', 'word_freq_conference',\n",
        "    'char_freq_;', 'char_freq_(', 'char_freq_[', 'char_freq_!', 'char_freq_$', 'char_freq_#',\n",
        "    'capital_run_length_average', 'capital_run_length_longest', 'capital_run_length_total'\n",
        "]\n",
        "\n",
        "# Crear un DataFrame de Pandas con la matriz y los nombres de columnas\n",
        "df_matriz_prueba_spam = pd.DataFrame(data=matrizPruebaSpam, columns=nombres_columnas)\n",
        "df_matriz_prueba_spam2 = pd.DataFrame(data=matrizPruebaSpam2, columns=nombres_columnas)\n",
        "df_matriz_prueba_no_spam = pd.DataFrame(data=matrizPruebaNoSpam, columns=nombres_columnas)\n",
        "\n",
        "#Escalar los datos\n",
        "matrizPruebaSpamEscalada = scaler.transform(df_matriz_prueba_spam)\n",
        "matrizPruebaSpam2Escalada = scaler.transform(df_matriz_prueba_spam2)\n",
        "matrizPruebaNoSpamEscalada = scaler.transform(df_matriz_prueba_no_spam)\n",
        "\n",
        "prediccion1 = model.predict(matrizPruebaSpamEscalada)[0][0]\n",
        "prediccion2 = model.predict(matrizPruebaSpam2Escalada)[0][0]\n",
        "prediccion3 = model.predict(matrizPruebaNoSpamEscalada)[0][0]\n",
        "\n",
        "prediccion1a = model.predict(df_matriz_prueba_spam)[0][0]\n",
        "prediccion2a = model.predict(matrizPruebaSpam2Escalada)[0][0]\n",
        "prediccion3a = model.predict(matrizPruebaNoSpamEscalada)[0][0]\n",
        "\n",
        "# Clasificación\n",
        "def clasificar_spam(prediccion):\n",
        "    if prediccion > 0.5:\n",
        "        return \"Es spam\"\n",
        "    else:\n",
        "        return \"No es spam\"\n",
        "\n",
        "# Datos escalados\n",
        "print(\"Predicción 1:\", clasificar_spam(prediccion1), prediccion1)\n",
        "print(\"Predicción 2:\", clasificar_spam(prediccion2), prediccion2)\n",
        "print(\"Predicción 3:\", clasificar_spam(prediccion3), prediccion3)\n",
        "\n",
        "# Sin escalar los datos\n",
        "print(\"Predicción 1a:\", clasificar_spam(prediccion1a), prediccion1a)\n",
        "print(\"Predicción 2a:\", clasificar_spam(prediccion2a), prediccion2a)\n",
        "print(\"Predicción 3a:\", clasificar_spam(prediccion3a), prediccion3a)\n",
        "# Lo correcto seria Si, Si, No\n",
        "# Predijo No, Si, No\n"
      ]
    },
    {
      "cell_type": "markdown",
      "source": [
        "Guardamos el modelo en formato .h5\n",
        "\n",
        "También se puede guardar en distintos formatos, pero después pueden surgir problemas que no hemos resuelto."
      ],
      "metadata": {
        "id": "09_hhZJrHxT_"
      }
    },
    {
      "cell_type": "code",
      "execution_count": null,
      "metadata": {
        "id": "J-UHmbPgHmqQ",
        "colab": {
          "base_uri": "https://localhost:8080/"
        },
        "outputId": "34af133f-7558-4e85-e088-5fbcd49f8045"
      },
      "outputs": [
        {
          "output_type": "stream",
          "name": "stderr",
          "text": [
            "/usr/local/lib/python3.10/dist-packages/keras/src/engine/training.py:3103: UserWarning: You are saving your model as an HDF5 file via `model.save()`. This file format is considered legacy. We recommend using instead the native Keras format, e.g. `model.save('my_model.keras')`.\n",
            "  saving_api.save_model(\n"
          ]
        }
      ],
      "source": [
        "#En formato h5 (aunque dice obsoleto funciona bien)\n",
        "model.save(\"modelo_pedro.h5\")\n",
        "\n",
        "#En formato Keras\n",
        "#model.save(\"modelo_pedro.keras\")\n",
        "\n",
        "#En formato SavedModel\n",
        "#tf.saved_model.save(model, \"modelo_pedro\")"
      ]
    },
    {
      "cell_type": "markdown",
      "source": [
        "Instalamos tensorflowjs"
      ],
      "metadata": {
        "id": "guMDNIagIDyY"
      }
    },
    {
      "cell_type": "code",
      "source": [
        "!pip install tensorflowjs"
      ],
      "metadata": {
        "colab": {
          "base_uri": "https://localhost:8080/",
          "height": 1000
        },
        "id": "geCkvZdZ1sz2",
        "outputId": "9b1b9d36-2497-43d4-c197-68208609e2a0"
      },
      "execution_count": null,
      "outputs": [
        {
          "output_type": "stream",
          "name": "stdout",
          "text": [
            "Collecting tensorflowjs\n",
            "  Downloading tensorflowjs-4.19.0-py3-none-any.whl (89 kB)\n",
            "\u001b[?25l     \u001b[90m━━━━━━━━━━━━━━━━━━━━━━━━━━━━━━━━━━━━━━━━\u001b[0m \u001b[32m0.0/89.1 kB\u001b[0m \u001b[31m?\u001b[0m eta \u001b[36m-:--:--\u001b[0m\r\u001b[2K     \u001b[90m━━━━━━━━━━━━━━━━━━━━━━━━━━━━━━━━━━━━━━━━\u001b[0m \u001b[32m89.1/89.1 kB\u001b[0m \u001b[31m2.6 MB/s\u001b[0m eta \u001b[36m0:00:00\u001b[0m\n",
            "\u001b[?25hRequirement already satisfied: flax>=0.7.2 in /usr/local/lib/python3.10/dist-packages (from tensorflowjs) (0.8.3)\n",
            "Requirement already satisfied: importlib_resources>=5.9.0 in /usr/local/lib/python3.10/dist-packages (from tensorflowjs) (6.4.0)\n",
            "Requirement already satisfied: jax>=0.4.13 in /usr/local/lib/python3.10/dist-packages (from tensorflowjs) (0.4.26)\n",
            "Requirement already satisfied: jaxlib>=0.4.13 in /usr/local/lib/python3.10/dist-packages (from tensorflowjs) (0.4.26+cuda12.cudnn89)\n",
            "Requirement already satisfied: tensorflow<3,>=2.13.0 in /usr/local/lib/python3.10/dist-packages (from tensorflowjs) (2.15.0)\n",
            "Requirement already satisfied: tf-keras>=2.13.0 in /usr/local/lib/python3.10/dist-packages (from tensorflowjs) (2.15.1)\n",
            "Collecting tensorflow-decision-forests>=1.5.0 (from tensorflowjs)\n",
            "  Downloading tensorflow_decision_forests-1.9.0-cp310-cp310-manylinux_2_17_x86_64.manylinux2014_x86_64.whl (15.5 MB)\n",
            "\u001b[2K     \u001b[90m━━━━━━━━━━━━━━━━━━━━━━━━━━━━━━━━━━━━━━━━\u001b[0m \u001b[32m15.5/15.5 MB\u001b[0m \u001b[31m37.0 MB/s\u001b[0m eta \u001b[36m0:00:00\u001b[0m\n",
            "\u001b[?25hRequirement already satisfied: six<2,>=1.16.0 in /usr/local/lib/python3.10/dist-packages (from tensorflowjs) (1.16.0)\n",
            "Requirement already satisfied: tensorflow-hub>=0.16.1 in /usr/local/lib/python3.10/dist-packages (from tensorflowjs) (0.16.1)\n",
            "Collecting packaging~=23.1 (from tensorflowjs)\n",
            "  Downloading packaging-23.2-py3-none-any.whl (53 kB)\n",
            "\u001b[2K     \u001b[90m━━━━━━━━━━━━━━━━━━━━━━━━━━━━━━━━━━━━━━━━\u001b[0m \u001b[32m53.0/53.0 kB\u001b[0m \u001b[31m6.3 MB/s\u001b[0m eta \u001b[36m0:00:00\u001b[0m\n",
            "\u001b[?25hRequirement already satisfied: numpy>=1.22 in /usr/local/lib/python3.10/dist-packages (from flax>=0.7.2->tensorflowjs) (1.25.2)\n",
            "Requirement already satisfied: msgpack in /usr/local/lib/python3.10/dist-packages (from flax>=0.7.2->tensorflowjs) (1.0.8)\n",
            "Requirement already satisfied: optax in /usr/local/lib/python3.10/dist-packages (from flax>=0.7.2->tensorflowjs) (0.2.2)\n",
            "Requirement already satisfied: orbax-checkpoint in /usr/local/lib/python3.10/dist-packages (from flax>=0.7.2->tensorflowjs) (0.4.4)\n",
            "Requirement already satisfied: tensorstore in /usr/local/lib/python3.10/dist-packages (from flax>=0.7.2->tensorflowjs) (0.1.45)\n",
            "Requirement already satisfied: rich>=11.1 in /usr/local/lib/python3.10/dist-packages (from flax>=0.7.2->tensorflowjs) (13.7.1)\n",
            "Requirement already satisfied: typing-extensions>=4.2 in /usr/local/lib/python3.10/dist-packages (from flax>=0.7.2->tensorflowjs) (4.11.0)\n",
            "Requirement already satisfied: PyYAML>=5.4.1 in /usr/local/lib/python3.10/dist-packages (from flax>=0.7.2->tensorflowjs) (6.0.1)\n",
            "Requirement already satisfied: ml-dtypes>=0.2.0 in /usr/local/lib/python3.10/dist-packages (from jax>=0.4.13->tensorflowjs) (0.2.0)\n",
            "Requirement already satisfied: opt-einsum in /usr/local/lib/python3.10/dist-packages (from jax>=0.4.13->tensorflowjs) (3.3.0)\n",
            "Requirement already satisfied: scipy>=1.9 in /usr/local/lib/python3.10/dist-packages (from jax>=0.4.13->tensorflowjs) (1.11.4)\n",
            "Requirement already satisfied: absl-py>=1.0.0 in /usr/local/lib/python3.10/dist-packages (from tensorflow<3,>=2.13.0->tensorflowjs) (1.4.0)\n",
            "Requirement already satisfied: astunparse>=1.6.0 in /usr/local/lib/python3.10/dist-packages (from tensorflow<3,>=2.13.0->tensorflowjs) (1.6.3)\n",
            "Requirement already satisfied: flatbuffers>=23.5.26 in /usr/local/lib/python3.10/dist-packages (from tensorflow<3,>=2.13.0->tensorflowjs) (24.3.25)\n",
            "Requirement already satisfied: gast!=0.5.0,!=0.5.1,!=0.5.2,>=0.2.1 in /usr/local/lib/python3.10/dist-packages (from tensorflow<3,>=2.13.0->tensorflowjs) (0.5.4)\n",
            "Requirement already satisfied: google-pasta>=0.1.1 in /usr/local/lib/python3.10/dist-packages (from tensorflow<3,>=2.13.0->tensorflowjs) (0.2.0)\n",
            "Requirement already satisfied: h5py>=2.9.0 in /usr/local/lib/python3.10/dist-packages (from tensorflow<3,>=2.13.0->tensorflowjs) (3.9.0)\n",
            "Requirement already satisfied: libclang>=13.0.0 in /usr/local/lib/python3.10/dist-packages (from tensorflow<3,>=2.13.0->tensorflowjs) (18.1.1)\n",
            "Requirement already satisfied: protobuf!=4.21.0,!=4.21.1,!=4.21.2,!=4.21.3,!=4.21.4,!=4.21.5,<5.0.0dev,>=3.20.3 in /usr/local/lib/python3.10/dist-packages (from tensorflow<3,>=2.13.0->tensorflowjs) (3.20.3)\n",
            "Requirement already satisfied: setuptools in /usr/local/lib/python3.10/dist-packages (from tensorflow<3,>=2.13.0->tensorflowjs) (67.7.2)\n",
            "Requirement already satisfied: termcolor>=1.1.0 in /usr/local/lib/python3.10/dist-packages (from tensorflow<3,>=2.13.0->tensorflowjs) (2.4.0)\n",
            "Requirement already satisfied: wrapt<1.15,>=1.11.0 in /usr/local/lib/python3.10/dist-packages (from tensorflow<3,>=2.13.0->tensorflowjs) (1.14.1)\n",
            "Requirement already satisfied: tensorflow-io-gcs-filesystem>=0.23.1 in /usr/local/lib/python3.10/dist-packages (from tensorflow<3,>=2.13.0->tensorflowjs) (0.36.0)\n",
            "Requirement already satisfied: grpcio<2.0,>=1.24.3 in /usr/local/lib/python3.10/dist-packages (from tensorflow<3,>=2.13.0->tensorflowjs) (1.63.0)\n",
            "Requirement already satisfied: tensorboard<2.16,>=2.15 in /usr/local/lib/python3.10/dist-packages (from tensorflow<3,>=2.13.0->tensorflowjs) (2.15.2)\n",
            "Requirement already satisfied: tensorflow-estimator<2.16,>=2.15.0 in /usr/local/lib/python3.10/dist-packages (from tensorflow<3,>=2.13.0->tensorflowjs) (2.15.0)\n",
            "Requirement already satisfied: keras<2.16,>=2.15.0 in /usr/local/lib/python3.10/dist-packages (from tensorflow<3,>=2.13.0->tensorflowjs) (2.15.0)\n",
            "Requirement already satisfied: pandas in /usr/local/lib/python3.10/dist-packages (from tensorflow-decision-forests>=1.5.0->tensorflowjs) (2.0.3)\n",
            "Collecting tensorflow<3,>=2.13.0 (from tensorflowjs)\n",
            "  Downloading tensorflow-2.16.1-cp310-cp310-manylinux_2_17_x86_64.manylinux2014_x86_64.whl (589.8 MB)\n",
            "\u001b[2K     \u001b[90m━━━━━━━━━━━━━━━━━━━━━━━━━━━━━━━━━━━━━━━━\u001b[0m \u001b[32m589.8/589.8 MB\u001b[0m \u001b[31m2.2 MB/s\u001b[0m eta \u001b[36m0:00:00\u001b[0m\n",
            "\u001b[?25hRequirement already satisfied: wheel in /usr/local/lib/python3.10/dist-packages (from tensorflow-decision-forests>=1.5.0->tensorflowjs) (0.43.0)\n",
            "Collecting wurlitzer (from tensorflow-decision-forests>=1.5.0->tensorflowjs)\n",
            "  Downloading wurlitzer-3.1.0-py3-none-any.whl (8.4 kB)\n",
            "Collecting tf-keras>=2.13.0 (from tensorflowjs)\n",
            "  Downloading tf_keras-2.16.0-py3-none-any.whl (1.7 MB)\n",
            "\u001b[2K     \u001b[90m━━━━━━━━━━━━━━━━━━━━━━━━━━━━━━━━━━━━━━━━\u001b[0m \u001b[32m1.7/1.7 MB\u001b[0m \u001b[31m74.6 MB/s\u001b[0m eta \u001b[36m0:00:00\u001b[0m\n",
            "\u001b[?25hCollecting h5py>=3.10.0 (from tensorflow<3,>=2.13.0->tensorflowjs)\n",
            "  Downloading h5py-3.11.0-cp310-cp310-manylinux_2_17_x86_64.manylinux2014_x86_64.whl (5.3 MB)\n",
            "\u001b[2K     \u001b[90m━━━━━━━━━━━━━━━━━━━━━━━━━━━━━━━━━━━━━━━━\u001b[0m \u001b[32m5.3/5.3 MB\u001b[0m \u001b[31m78.3 MB/s\u001b[0m eta \u001b[36m0:00:00\u001b[0m\n",
            "\u001b[?25hCollecting ml-dtypes>=0.2.0 (from jax>=0.4.13->tensorflowjs)\n",
            "  Downloading ml_dtypes-0.3.2-cp310-cp310-manylinux_2_17_x86_64.manylinux2014_x86_64.whl (2.2 MB)\n",
            "\u001b[2K     \u001b[90m━━━━━━━━━━━━━━━━━━━━━━━━━━━━━━━━━━━━━━━━\u001b[0m \u001b[32m2.2/2.2 MB\u001b[0m \u001b[31m85.5 MB/s\u001b[0m eta \u001b[36m0:00:00\u001b[0m\n",
            "\u001b[?25hRequirement already satisfied: requests<3,>=2.21.0 in /usr/local/lib/python3.10/dist-packages (from tensorflow<3,>=2.13.0->tensorflowjs) (2.31.0)\n",
            "Collecting tensorboard<2.17,>=2.16 (from tensorflow<3,>=2.13.0->tensorflowjs)\n",
            "  Downloading tensorboard-2.16.2-py3-none-any.whl (5.5 MB)\n",
            "\u001b[2K     \u001b[90m━━━━━━━━━━━━━━━━━━━━━━━━━━━━━━━━━━━━━━━━\u001b[0m \u001b[32m5.5/5.5 MB\u001b[0m \u001b[31m91.3 MB/s\u001b[0m eta \u001b[36m0:00:00\u001b[0m\n",
            "\u001b[?25hCollecting keras>=3.0.0 (from tensorflow<3,>=2.13.0->tensorflowjs)\n",
            "  Downloading keras-3.3.3-py3-none-any.whl (1.1 MB)\n",
            "\u001b[2K     \u001b[90m━━━━━━━━━━━━━━━━━━━━━━━━━━━━━━━━━━━━━━━━\u001b[0m \u001b[32m1.1/1.1 MB\u001b[0m \u001b[31m56.1 MB/s\u001b[0m eta \u001b[36m0:00:00\u001b[0m\n",
            "\u001b[?25hCollecting namex (from keras>=3.0.0->tensorflow<3,>=2.13.0->tensorflowjs)\n",
            "  Downloading namex-0.0.8-py3-none-any.whl (5.8 kB)\n",
            "Collecting optree (from keras>=3.0.0->tensorflow<3,>=2.13.0->tensorflowjs)\n",
            "  Downloading optree-0.11.0-cp310-cp310-manylinux_2_17_x86_64.manylinux2014_x86_64.whl (311 kB)\n",
            "\u001b[2K     \u001b[90m━━━━━━━━━━━━━━━━━━━━━━━━━━━━━━━━━━━━━━━━\u001b[0m \u001b[32m311.2/311.2 kB\u001b[0m \u001b[31m34.3 MB/s\u001b[0m eta \u001b[36m0:00:00\u001b[0m\n",
            "\u001b[?25hRequirement already satisfied: charset-normalizer<4,>=2 in /usr/local/lib/python3.10/dist-packages (from requests<3,>=2.21.0->tensorflow<3,>=2.13.0->tensorflowjs) (3.3.2)\n",
            "Requirement already satisfied: idna<4,>=2.5 in /usr/local/lib/python3.10/dist-packages (from requests<3,>=2.21.0->tensorflow<3,>=2.13.0->tensorflowjs) (3.7)\n",
            "Requirement already satisfied: urllib3<3,>=1.21.1 in /usr/local/lib/python3.10/dist-packages (from requests<3,>=2.21.0->tensorflow<3,>=2.13.0->tensorflowjs) (2.0.7)\n",
            "Requirement already satisfied: certifi>=2017.4.17 in /usr/local/lib/python3.10/dist-packages (from requests<3,>=2.21.0->tensorflow<3,>=2.13.0->tensorflowjs) (2024.2.2)\n",
            "Requirement already satisfied: markdown-it-py>=2.2.0 in /usr/local/lib/python3.10/dist-packages (from rich>=11.1->flax>=0.7.2->tensorflowjs) (3.0.0)\n",
            "Requirement already satisfied: pygments<3.0.0,>=2.13.0 in /usr/local/lib/python3.10/dist-packages (from rich>=11.1->flax>=0.7.2->tensorflowjs) (2.16.1)\n",
            "Requirement already satisfied: markdown>=2.6.8 in /usr/local/lib/python3.10/dist-packages (from tensorboard<2.17,>=2.16->tensorflow<3,>=2.13.0->tensorflowjs) (3.6)\n",
            "Requirement already satisfied: tensorboard-data-server<0.8.0,>=0.7.0 in /usr/local/lib/python3.10/dist-packages (from tensorboard<2.17,>=2.16->tensorflow<3,>=2.13.0->tensorflowjs) (0.7.2)\n",
            "Requirement already satisfied: werkzeug>=1.0.1 in /usr/local/lib/python3.10/dist-packages (from tensorboard<2.17,>=2.16->tensorflow<3,>=2.13.0->tensorflowjs) (3.0.2)\n",
            "Requirement already satisfied: chex>=0.1.86 in /usr/local/lib/python3.10/dist-packages (from optax->flax>=0.7.2->tensorflowjs) (0.1.86)\n",
            "Requirement already satisfied: etils[epath,epy] in /usr/local/lib/python3.10/dist-packages (from orbax-checkpoint->flax>=0.7.2->tensorflowjs) (1.7.0)\n",
            "Requirement already satisfied: nest_asyncio in /usr/local/lib/python3.10/dist-packages (from orbax-checkpoint->flax>=0.7.2->tensorflowjs) (1.6.0)\n",
            "Requirement already satisfied: python-dateutil>=2.8.2 in /usr/local/lib/python3.10/dist-packages (from pandas->tensorflow-decision-forests>=1.5.0->tensorflowjs) (2.8.2)\n",
            "Requirement already satisfied: pytz>=2020.1 in /usr/local/lib/python3.10/dist-packages (from pandas->tensorflow-decision-forests>=1.5.0->tensorflowjs) (2023.4)\n",
            "Requirement already satisfied: tzdata>=2022.1 in /usr/local/lib/python3.10/dist-packages (from pandas->tensorflow-decision-forests>=1.5.0->tensorflowjs) (2024.1)\n",
            "Requirement already satisfied: toolz>=0.9.0 in /usr/local/lib/python3.10/dist-packages (from chex>=0.1.86->optax->flax>=0.7.2->tensorflowjs) (0.12.1)\n",
            "Requirement already satisfied: mdurl~=0.1 in /usr/local/lib/python3.10/dist-packages (from markdown-it-py>=2.2.0->rich>=11.1->flax>=0.7.2->tensorflowjs) (0.1.2)\n",
            "Requirement already satisfied: MarkupSafe>=2.1.1 in /usr/local/lib/python3.10/dist-packages (from werkzeug>=1.0.1->tensorboard<2.17,>=2.16->tensorflow<3,>=2.13.0->tensorflowjs) (2.1.5)\n",
            "Requirement already satisfied: fsspec in /usr/local/lib/python3.10/dist-packages (from etils[epath,epy]->orbax-checkpoint->flax>=0.7.2->tensorflowjs) (2023.6.0)\n",
            "Requirement already satisfied: zipp in /usr/local/lib/python3.10/dist-packages (from etils[epath,epy]->orbax-checkpoint->flax>=0.7.2->tensorflowjs) (3.18.1)\n",
            "Installing collected packages: namex, wurlitzer, packaging, optree, ml-dtypes, h5py, tensorboard, keras, tensorflow, tf-keras, tensorflow-decision-forests, tensorflowjs\n",
            "  Attempting uninstall: packaging\n",
            "    Found existing installation: packaging 24.0\n",
            "    Uninstalling packaging-24.0:\n",
            "      Successfully uninstalled packaging-24.0\n",
            "  Attempting uninstall: ml-dtypes\n",
            "    Found existing installation: ml-dtypes 0.2.0\n",
            "    Uninstalling ml-dtypes-0.2.0:\n",
            "      Successfully uninstalled ml-dtypes-0.2.0\n",
            "  Attempting uninstall: h5py\n",
            "    Found existing installation: h5py 3.9.0\n",
            "    Uninstalling h5py-3.9.0:\n",
            "      Successfully uninstalled h5py-3.9.0\n",
            "  Attempting uninstall: tensorboard\n",
            "    Found existing installation: tensorboard 2.15.2\n",
            "    Uninstalling tensorboard-2.15.2:\n",
            "      Successfully uninstalled tensorboard-2.15.2\n",
            "  Attempting uninstall: keras\n",
            "    Found existing installation: keras 2.15.0\n",
            "    Uninstalling keras-2.15.0:\n",
            "      Successfully uninstalled keras-2.15.0\n",
            "  Attempting uninstall: tensorflow\n",
            "    Found existing installation: tensorflow 2.15.0\n",
            "    Uninstalling tensorflow-2.15.0:\n",
            "      Successfully uninstalled tensorflow-2.15.0\n",
            "  Attempting uninstall: tf-keras\n",
            "    Found existing installation: tf_keras 2.15.1\n",
            "    Uninstalling tf_keras-2.15.1:\n",
            "      Successfully uninstalled tf_keras-2.15.1\n",
            "Successfully installed h5py-3.11.0 keras-3.3.3 ml-dtypes-0.3.2 namex-0.0.8 optree-0.11.0 packaging-23.2 tensorboard-2.16.2 tensorflow-2.16.1 tensorflow-decision-forests-1.9.0 tensorflowjs-4.19.0 tf-keras-2.16.0 wurlitzer-3.1.0\n"
          ]
        },
        {
          "output_type": "display_data",
          "data": {
            "application/vnd.colab-display-data+json": {
              "pip_warning": {
                "packages": [
                  "h5py",
                  "keras",
                  "ml_dtypes",
                  "tensorboard",
                  "tensorflow"
                ]
              },
              "id": "dea7c8b0a6954e3a95d14a97ee9ff71f"
            }
          },
          "metadata": {}
        }
      ]
    },
    {
      "cell_type": "markdown",
      "source": [
        "Aquí comprobamos que el modelo se carga bien."
      ],
      "metadata": {
        "id": "7_IvAlmYIJcP"
      }
    },
    {
      "cell_type": "code",
      "source": [
        "from tensorflow import keras\n",
        "# Comprobaciones sobre el modelo\n",
        "\n",
        "# Formato h5\n",
        "modelo_cargado = load_model('modelo_pedro.h5')\n",
        "print(modelo_cargado.summary())\n",
        "\n",
        "# Formato keras\n",
        "# modelo_cargado = keras.models.load_model('modelo_pedro.keras')\n",
        "# print(modelo_cargado.summary())\n",
        "\n",
        "# # Formato SavedModel\n",
        "# modelo_cargado = tf.saved_model.load(\"modelo_pedro\")\n",
        "\n",
        "# # Obtén la firma del modelo\n",
        "# signature = list(modelo_cargado.signatures.values())[0]\n",
        "\n",
        "# # Muestra los nombres de los nodos de entrada y salida del modelo\n",
        "# print(signature.inputs)\n",
        "# print(signature.outputs)"
      ],
      "metadata": {
        "id": "iwjOJ9k222I9",
        "colab": {
          "base_uri": "https://localhost:8080/",
          "height": 313
        },
        "outputId": "be9a624a-efc1-4e22-e9d0-c3fc78503df6"
      },
      "execution_count": null,
      "outputs": [
        {
          "output_type": "stream",
          "name": "stderr",
          "text": [
            "/usr/local/lib/python3.10/dist-packages/keras/src/saving/saving_lib.py:415: UserWarning: Skipping variable loading for optimizer 'rmsprop', because it has 8 variables whereas the saved optimizer has 14 variables. \n",
            "  saveable.load_own_variables(weights_store.get(inner_path))\n"
          ]
        },
        {
          "output_type": "display_data",
          "data": {
            "text/plain": [
              "\u001b[1mModel: \"sequential_1\"\u001b[0m\n"
            ],
            "text/html": [
              "<pre style=\"white-space:pre;overflow-x:auto;line-height:normal;font-family:Menlo,'DejaVu Sans Mono',consolas,'Courier New',monospace\"><span style=\"font-weight: bold\">Model: \"sequential_1\"</span>\n",
              "</pre>\n"
            ]
          },
          "metadata": {}
        },
        {
          "output_type": "display_data",
          "data": {
            "text/plain": [
              "┏━━━━━━━━━━━━━━━━━━━━━━━━━━━━━━━━━━━━━━┳━━━━━━━━━━━━━━━━━━━━━━━━━━━━━┳━━━━━━━━━━━━━━━━━┓\n",
              "┃\u001b[1m \u001b[0m\u001b[1mLayer (type)                        \u001b[0m\u001b[1m \u001b[0m┃\u001b[1m \u001b[0m\u001b[1mOutput Shape               \u001b[0m\u001b[1m \u001b[0m┃\u001b[1m \u001b[0m\u001b[1m        Param #\u001b[0m\u001b[1m \u001b[0m┃\n",
              "┡━━━━━━━━━━━━━━━━━━━━━━━━━━━━━━━━━━━━━━╇━━━━━━━━━━━━━━━━━━━━━━━━━━━━━╇━━━━━━━━━━━━━━━━━┩\n",
              "│ dense_3 (\u001b[38;5;33mDense\u001b[0m)                      │ (\u001b[38;5;45mNone\u001b[0m, \u001b[38;5;34m64\u001b[0m)                  │           \u001b[38;5;34m3,712\u001b[0m │\n",
              "├──────────────────────────────────────┼─────────────────────────────┼─────────────────┤\n",
              "│ dense_4 (\u001b[38;5;33mDense\u001b[0m)                      │ (\u001b[38;5;45mNone\u001b[0m, \u001b[38;5;34m32\u001b[0m)                  │           \u001b[38;5;34m2,080\u001b[0m │\n",
              "├──────────────────────────────────────┼─────────────────────────────┼─────────────────┤\n",
              "│ dense_5 (\u001b[38;5;33mDense\u001b[0m)                      │ (\u001b[38;5;45mNone\u001b[0m, \u001b[38;5;34m1\u001b[0m)                   │              \u001b[38;5;34m33\u001b[0m │\n",
              "└──────────────────────────────────────┴─────────────────────────────┴─────────────────┘\n"
            ],
            "text/html": [
              "<pre style=\"white-space:pre;overflow-x:auto;line-height:normal;font-family:Menlo,'DejaVu Sans Mono',consolas,'Courier New',monospace\">┏━━━━━━━━━━━━━━━━━━━━━━━━━━━━━━━━━━━━━━┳━━━━━━━━━━━━━━━━━━━━━━━━━━━━━┳━━━━━━━━━━━━━━━━━┓\n",
              "┃<span style=\"font-weight: bold\"> Layer (type)                         </span>┃<span style=\"font-weight: bold\"> Output Shape                </span>┃<span style=\"font-weight: bold\">         Param # </span>┃\n",
              "┡━━━━━━━━━━━━━━━━━━━━━━━━━━━━━━━━━━━━━━╇━━━━━━━━━━━━━━━━━━━━━━━━━━━━━╇━━━━━━━━━━━━━━━━━┩\n",
              "│ dense_3 (<span style=\"color: #0087ff; text-decoration-color: #0087ff\">Dense</span>)                      │ (<span style=\"color: #00d7ff; text-decoration-color: #00d7ff\">None</span>, <span style=\"color: #00af00; text-decoration-color: #00af00\">64</span>)                  │           <span style=\"color: #00af00; text-decoration-color: #00af00\">3,712</span> │\n",
              "├──────────────────────────────────────┼─────────────────────────────┼─────────────────┤\n",
              "│ dense_4 (<span style=\"color: #0087ff; text-decoration-color: #0087ff\">Dense</span>)                      │ (<span style=\"color: #00d7ff; text-decoration-color: #00d7ff\">None</span>, <span style=\"color: #00af00; text-decoration-color: #00af00\">32</span>)                  │           <span style=\"color: #00af00; text-decoration-color: #00af00\">2,080</span> │\n",
              "├──────────────────────────────────────┼─────────────────────────────┼─────────────────┤\n",
              "│ dense_5 (<span style=\"color: #0087ff; text-decoration-color: #0087ff\">Dense</span>)                      │ (<span style=\"color: #00d7ff; text-decoration-color: #00d7ff\">None</span>, <span style=\"color: #00af00; text-decoration-color: #00af00\">1</span>)                   │              <span style=\"color: #00af00; text-decoration-color: #00af00\">33</span> │\n",
              "└──────────────────────────────────────┴─────────────────────────────┴─────────────────┘\n",
              "</pre>\n"
            ]
          },
          "metadata": {}
        },
        {
          "output_type": "display_data",
          "data": {
            "text/plain": [
              "\u001b[1m Total params: \u001b[0m\u001b[38;5;34m11,652\u001b[0m (45.52 KB)\n"
            ],
            "text/html": [
              "<pre style=\"white-space:pre;overflow-x:auto;line-height:normal;font-family:Menlo,'DejaVu Sans Mono',consolas,'Courier New',monospace\"><span style=\"font-weight: bold\"> Total params: </span><span style=\"color: #00af00; text-decoration-color: #00af00\">11,652</span> (45.52 KB)\n",
              "</pre>\n"
            ]
          },
          "metadata": {}
        },
        {
          "output_type": "display_data",
          "data": {
            "text/plain": [
              "\u001b[1m Trainable params: \u001b[0m\u001b[38;5;34m5,825\u001b[0m (22.75 KB)\n"
            ],
            "text/html": [
              "<pre style=\"white-space:pre;overflow-x:auto;line-height:normal;font-family:Menlo,'DejaVu Sans Mono',consolas,'Courier New',monospace\"><span style=\"font-weight: bold\"> Trainable params: </span><span style=\"color: #00af00; text-decoration-color: #00af00\">5,825</span> (22.75 KB)\n",
              "</pre>\n"
            ]
          },
          "metadata": {}
        },
        {
          "output_type": "display_data",
          "data": {
            "text/plain": [
              "\u001b[1m Non-trainable params: \u001b[0m\u001b[38;5;34m0\u001b[0m (0.00 B)\n"
            ],
            "text/html": [
              "<pre style=\"white-space:pre;overflow-x:auto;line-height:normal;font-family:Menlo,'DejaVu Sans Mono',consolas,'Courier New',monospace\"><span style=\"font-weight: bold\"> Non-trainable params: </span><span style=\"color: #00af00; text-decoration-color: #00af00\">0</span> (0.00 B)\n",
              "</pre>\n"
            ]
          },
          "metadata": {}
        },
        {
          "output_type": "display_data",
          "data": {
            "text/plain": [
              "\u001b[1m Optimizer params: \u001b[0m\u001b[38;5;34m5,827\u001b[0m (22.77 KB)\n"
            ],
            "text/html": [
              "<pre style=\"white-space:pre;overflow-x:auto;line-height:normal;font-family:Menlo,'DejaVu Sans Mono',consolas,'Courier New',monospace\"><span style=\"font-weight: bold\"> Optimizer params: </span><span style=\"color: #00af00; text-decoration-color: #00af00\">5,827</span> (22.77 KB)\n",
              "</pre>\n"
            ]
          },
          "metadata": {}
        },
        {
          "output_type": "stream",
          "name": "stdout",
          "text": [
            "None\n"
          ]
        }
      ]
    },
    {
      "cell_type": "markdown",
      "source": [
        "Creamos nuestra carpeta para guardar el modelo final exportado."
      ],
      "metadata": {
        "id": "SaaPTzmcIURn"
      }
    },
    {
      "cell_type": "code",
      "source": [
        "!mkdir carpeta_modelo_pedro_h5_js\n",
        "#!mkdir carpeta_modelo_pedro_keras_js"
      ],
      "metadata": {
        "id": "iDgUhQFM17YO"
      },
      "execution_count": null,
      "outputs": []
    },
    {
      "cell_type": "markdown",
      "source": [
        "Exportamos el modelo a un formato válido para su uso en javascript."
      ],
      "metadata": {
        "id": "8oOZrPweId-k"
      }
    },
    {
      "cell_type": "code",
      "source": [
        "#!pip show keras\n",
        "\n",
        "!tensorflowjs_converter --input_format=keras \\\n",
        "                       modelo_pedro.h5 \\\n",
        "                       carpeta_modelo_pedro_h5_js\n",
        "\n",
        "# !tensorflowjs_converter --input_format=keras \\\n",
        "#                         modelo_pedro.keras \\\n",
        "#                         carpeta_modelo_pedro_keras_js\n",
        "\n",
        "# !tensorflowjs_converter --input_format=tf_saved_model \\\n",
        "#                        --output_node_names='Identity' \\\n",
        "#                        modelo_pedro \\\n",
        "#                        carpeta_modelo_pedro_js"
      ],
      "metadata": {
        "colab": {
          "base_uri": "https://localhost:8080/"
        },
        "id": "10314SGD2xQu",
        "outputId": "a77cd0bf-2f35-4754-e5a2-8863cfa669f3"
      },
      "execution_count": null,
      "outputs": [
        {
          "output_type": "stream",
          "name": "stdout",
          "text": [
            "2024-05-03 10:13:44.435168: I tensorflow/core/platform/cpu_feature_guard.cc:210] This TensorFlow binary is optimized to use available CPU instructions in performance-critical operations.\n",
            "To enable the following instructions: AVX2 FMA, in other operations, rebuild TensorFlow with the appropriate compiler flags.\n",
            "2024-05-03 10:13:46.510297: W tensorflow/compiler/tf2tensorrt/utils/py_utils.cc:38] TF-TRT Warning: Could not find TensorRT\n"
          ]
        }
      ]
    },
    {
      "cell_type": "markdown",
      "source": [
        "Recordad que una vez tengamos nuestro archivo index.html que use el modelo para hacer predicciones, si queremos probarlo debemos lanzar el comando:\n",
        "\n",
        "python -m http.server 8000\n",
        "\n",
        "desde la línea de comandos de nuestro ordenador."
      ],
      "metadata": {
        "id": "kjgC-4yFIlVk"
      }
    },
    {
      "cell_type": "code",
      "source": [],
      "metadata": {
        "id": "xq2l6zNF8t8x"
      },
      "execution_count": null,
      "outputs": []
    }
  ],
  "metadata": {
    "colab": {
      "provenance": []
    },
    "kernelspec": {
      "display_name": "Python 3",
      "name": "python3"
    },
    "language_info": {
      "name": "python"
    }
  },
  "nbformat": 4,
  "nbformat_minor": 0
}